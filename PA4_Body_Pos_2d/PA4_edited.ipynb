{
  "nbformat": 4,
  "nbformat_minor": 0,
  "metadata": {
    "colab": {
      "name": "PA4_edited.ipynb",
      "provenance": []
    },
    "kernelspec": {
      "name": "python3",
      "display_name": "Python 3"
    },
    "accelerator": "GPU"
  },
  "cells": [
    {
      "cell_type": "markdown",
      "metadata": {
        "id": "wDjNL7wEiTqa",
        "colab_type": "text"
      },
      "source": [
        "# Programming Assignment 4: Action Recognition I\n",
        "## Introduction\n",
        "This code trains a C3D network to analyze a video and yields seven estimated 'joint' positions for a subject's head, shoulders (2), elbows (2), and wrists (2). The input dataset has been preprocessed to ensure all videos are in a consistent format (frame width, frame height, number of frames). I chose to use Google Colab for this project as I was expending my laptop's limited GPU resources during testing.\n",
        "\n",
        "The input dataset is separated into 6000 training video clips and 1000 for testing. As the network is being trained, a validation set is passed through the network and the approximate mean pixel distance error is calculated. This code is written using *tensorflow V1* commands, and the network is built and trained by hand. *A future project will include training this dataset using Keras*\n",
        "\n",
        "## Importing dependencies\n",
        "\n",
        "Tensorflow V1 is selected for this project as the code for grading it relies on V1 functions. Numpy is imported for additional preprocessing of the image frames and other matrix math functions. Finally, pyplot will be used to plot the ratio of images for which the predicted cartesian coordinates are within a certian distance of the groundtruth labels."
      ]
    },
    {
      "cell_type": "code",
      "metadata": {
        "id": "7WwsOIErs_ca",
        "colab_type": "code",
        "colab": {
          "base_uri": "https://localhost:8080/",
          "height": 52
        },
        "outputId": "8612cc05-b9a4-4409-fc79-506edbfb2f7f"
      },
      "source": [
        "%tensorflow_version 1.x\n",
        "import tensorflow as tf\n",
        "import numpy as np\n",
        "import sys\n",
        "import matplotlib.pyplot as plt\n",
        "\n",
        "tf.__version__\n",
        "\n"
      ],
      "execution_count": null,
      "outputs": [
        {
          "output_type": "stream",
          "text": [
            "TensorFlow 1.x selected.\n"
          ],
          "name": "stdout"
        },
        {
          "output_type": "execute_result",
          "data": {
            "text/plain": [
              "'1.15.2'"
            ]
          },
          "metadata": {
            "tags": []
          },
          "execution_count": 1
        }
      ]
    },
    {
      "cell_type": "markdown",
      "metadata": {
        "id": "aJQLieJ6opa0",
        "colab_type": "text"
      },
      "source": [
        "## Loading the Data into Memory\n",
        "\n",
        "The dataset is small enough to load into memory in a single shot. The image data is loaded into a numpy array using pickle. Running this cell takes a while, so it has been separated from variable initializations as the dataset never changes."
      ]
    },
    {
      "cell_type": "code",
      "metadata": {
        "id": "on6vTDDUtS4i",
        "colab_type": "code",
        "colab": {
          "base_uri": "https://localhost:8080/",
          "height": 52
        },
        "outputId": "614f8734-90c7-4fc3-b924-ba8eae768258"
      },
      "source": [
        "import pickle\n",
        "\n",
        "def get_data(path):\n",
        "    data_file = open(path, 'rb') # open in readBytes mode\n",
        "    _data, _labels = pickle.load(data_file) # load into np arrays\n",
        "    data_file.close() # close the file to free up resources\n",
        "    return _data, _labels # return the two datasets\n",
        "\n",
        "print(\"Loading Dataset...\")\n",
        "data_f, labels_f = get_data('/content/drive/My Drive/Colab Notebooks/youtube_train_data.pkl') # call the above function\n",
        "\n",
        "print(\"done\")\n"
      ],
      "execution_count": null,
      "outputs": [
        {
          "output_type": "stream",
          "text": [
            "Loading Dataset...\n",
            "done\n"
          ],
          "name": "stdout"
        }
      ]
    },
    {
      "cell_type": "markdown",
      "metadata": {
        "id": "G3_LEUrmsSCk",
        "colab_type": "text"
      },
      "source": [
        "## Helper Functions\n",
        "\n",
        "To make the rest of the code more readable, commonly used procedures are declared in the following cell.\n",
        "\n",
        "The **plt_errs()** function is used to generate a plot, label the axes, and display it to the user. A steeper curve (that is, a higher ratio of images within a small distance) indicates better overall performance of the network. That is, we want a maximal 'area under the curve'.\n",
        "\n",
        "The **calc_avg_pxl_dist_err()** function is set up to use a testing set of 60 images; one tenth the size of the training set. It calculates the mean distance between the predicted labels and the ground-truth labels for each of the 7 joint positions. *For images with an error of over 20 px, this will result in a 'negative' ratio as can be seen in the final plot. This needs to be ammended in a future version.*\n",
        "\n",
        "**next_batch()** simply grabs a certain number of tensors from either the training or testing datasets. *This function should be modified in a future version to randomize the video tensors so that the model is not \"over-trained\"*\n",
        "\n",
        "The rest of the functions are responsible for creating weight tensors and convolutional layers used in the network. Refer to the code for more detail on the implementation."
      ]
    },
    {
      "cell_type": "code",
      "metadata": {
        "id": "4Ps9cu8Itfx-",
        "colab_type": "code",
        "colab": {
          "base_uri": "https://localhost:8080/",
          "height": 35
        },
        "outputId": "1a3dc6fd-5989-4f17-c362-4819db61e4fb"
      },
      "source": [
        "\n",
        "num_tr_samples = 6000 # I chose to use 6000 frames for training and 1000 for testing\n",
        "train_data_f = data_f[0:num_tr_samples] # get the first 6000 frames to train\n",
        "train_labels_f = labels_f[0:num_tr_samples] # get the first 6000 labels\n",
        "test_data_f = data_f[num_tr_samples:] # the rest go into the testing set\n",
        "test_labels_f = labels_f[num_tr_samples:]\n",
        "\n",
        "''' \n",
        "FUNCTION plt_errs()\n",
        "\n",
        "this function takes no arguments. It is called affter the training session is run\n",
        "to plot the average pixel distance error on the trained model for each joint\n",
        "position. \n",
        "'''\n",
        "def plt_errs():\n",
        "    for i in range(7):\n",
        "        plt.plot(errs[i])\n",
        "    plt.title('Prediction Accuracy Within 20.0 px')\n",
        "    plt.legend(['Head', 'R Shoulder', 'L Shoulder', 'R Wrist',\n",
        "                    'L Wrist', 'R Elbow', 'L Elbow'])\n",
        "    plt.xlabel('Pixel distance from GT (px * 10)')\n",
        "    \n",
        "    plt.ylabel('Ratio of images within distance')\n",
        "    plt.show()   \n",
        "\n",
        "'''\n",
        "FUNCTION calc_avg_pxl_dist_err()\n",
        "\n",
        "This function takes no arguments. It operates on global variables within the file.\n",
        "We assume that 100% of predictions are perfect, and then penalize each joint \n",
        "position based on the linear pixel distance error. This error is stored in the\n",
        "matrix errs[][], which keeps track of the 7 positions throughout the testing \n",
        "iterations.\n",
        "'''\n",
        "errs = [] # initialize an array for the seven joint positions\n",
        "for i in range(7):# its a 7x200 matrix representing 10*pixel_dist_err\n",
        "  errs.append([]) # add seven vectors, populate every value with 1\n",
        "  for k in range(200): # NOTE: avg distance by a factor of 10 (higher resolution when plotting)\n",
        "    errs[i].append(1) # assume all are 100% accurate, will penalize for incorrect\n",
        "\n",
        "def calc_avg_pxl_dist_err():\n",
        "    for i in range(7): # 7 positions\n",
        "        for j in range(60): # 60 images total\n",
        "            for k in range(min(int(diffr[j][i]*10),200)):\n",
        "                errs[i][k] -= 1/(60*5)\n",
        "\n",
        "\n",
        "'''\n",
        "function next_batch(tensor x, list y, int start, int end)\n",
        "\n",
        "grabs a certain number (end - start) of inputs and labels from the training set\n",
        "and returns the batch. This is to prevent OOM (out of memory) errors when trying\n",
        "to load a large dataset.\n",
        "\n",
        "returns a portion of the input from index 'start' to index 'end'\n",
        "'''\n",
        "def next_batch(x, y, start, end):\n",
        "    x_batch = x[start:end,:,:,:]\n",
        "    y_batch = y[start:end]\n",
        "    return x_batch, y_batch\n",
        "\n",
        "'''\n",
        "function init_weights(tensor shape)\n",
        "\n",
        "This is a helper function to initialize the weights for a particular convolutional layer.\n",
        "The shape of the weight matrix is dependent on the model parameters for filter\n",
        "size and shape. In ourr case, we're using 32 5x5 filters for our convolutional layers.\n",
        "Uses xavier initialization on weights and biases.\n",
        "\n",
        "Returns a tensor of variables initialized using the xavier initializer.\n",
        "The function also creates a variable name 'W' which is scoped to a particular\n",
        "layer, shown below.\n",
        "'''\n",
        "def init_weights(shape):\n",
        "    return tf.get_variable(\n",
        "            #dtype=tf.float64,\n",
        "            name='W',\n",
        "            shape=shape,\n",
        "            initializer=tf.contrib.layers.xavier_initializer())\n",
        "\n",
        "'''\n",
        "function init_bias(tensor shape)\n",
        "\n",
        "Similar to the function above, returns the bias tensor (vector) for a single\n",
        "convolutional layer in the network.\n",
        "'''\n",
        "def init_bias(shape):\n",
        "    return tf.get_variable(\n",
        "            #dtype=tf.float64,\n",
        "            name='b',\n",
        "            shape=shape,\n",
        "            initializer=tf.contrib.layers.xavier_initializer())\n",
        "\n",
        "'''\n",
        "function conv_layer(tensor x, tensor filter_size, int num_filters, int stride, char[] name)\n",
        "\n",
        "takes the input tensor, x, and applies a convolutional filter of size filter_size\n",
        "with other hyperparameters for the number of filters to be use, the stride,\n",
        "and a scopable name for the layer.\n",
        "\n",
        "Returns a tensor which has been normalized and sent through a non-linearity\n",
        "( in this case ReLU ) to be fed into the next layer. function should work for\n",
        "RGB as well as greyscale images. All variables created in this function are \n",
        "scoped to the name provided for the layer. (they should be unique when constructing\n",
        "the graph - though i think tf will resolve names by appending '_')\n",
        "'''\n",
        "def conv_layer(input, fx, fy, num_filters, stride,padding, name):\n",
        "    with tf.variable_scope(name):\n",
        "        num_in_channels = input.get_shape().as_list()[-1]\n",
        "        shape = [fx, fy, num_in_channels, num_filters]\n",
        "        W = init_weights(shape=shape) # initialize the weights\n",
        "        b = init_bias(shape=[num_filters]) # initialize the biases\n",
        "        layer = tf.nn.conv2d( # use the conv2d function from tensorflow to build this layer\n",
        "                input=input,\n",
        "                filter=W,\n",
        "                strides=[1, stride, stride, 1],\n",
        "                padding=padding,\n",
        "                )\n",
        "        layer += b # add in the biases!\n",
        "        return tf.nn.relu(layer) # send through non-linearity and return\n",
        "'''\n",
        "function max_pool(tensor x, tensor ksize, tensor stride, char[] name)\n",
        "\n",
        "computes the max-pooling layer of a tensor x with kernal ksize and stride stride\n",
        "used after the convolutional layer to pool its outputs\n",
        "\n",
        "returns a reduced set (by maximum) of the input. helps to reduce computation space\n",
        "for the model.\n",
        "'''\n",
        "def max_pool(input, ksize, stride, name):\n",
        "    return tf.nn.max_pool(input, # tensorflow provides a max pooling function, see docs\n",
        "                          ksize=[1,ksize,ksize,1], # kernal size (flat)\n",
        "                          strides=[1,stride,stride,1], # strides (also flat)\n",
        "                          name=name,\n",
        "                          padding=\"SAME\")\n",
        "\n",
        "\n",
        "\n",
        "print(\"done.\")"
      ],
      "execution_count": null,
      "outputs": [
        {
          "output_type": "stream",
          "text": [
            "done.\n"
          ],
          "name": "stdout"
        }
      ]
    },
    {
      "cell_type": "markdown",
      "metadata": {
        "id": "pY3gFc8JwTf6",
        "colab_type": "text"
      },
      "source": [
        "## Constructing the Network\n",
        "\n",
        "Finally, we have enough in place to start building the 3D-CNN-LSTM network. First, placeholders are created for the input tensors so that we can feed in batches of varying sizes. Then, hyperparameters are declared specifying the number of LSTM cells and input batch size. *The network can be improved by defining variables to make the network architecture more easily varied. In this initial attempt, however, everything was hard-coded.*"
      ]
    },
    {
      "cell_type": "code",
      "metadata": {
        "id": "hVDl4NORtof3",
        "colab_type": "code",
        "colab": {
          "base_uri": "https://localhost:8080/",
          "height": 671
        },
        "outputId": "ae0f14fa-14bd-4a1e-815c-6fef2336dd44"
      },
      "source": [
        "tf.reset_default_graph()\n",
        "\n",
        "# ~~~~~~~~~~~~~~~~~~~~~~~~~~~~~~~~~~~~~~~~~~~~~~~~~~~~~~~~~~~~~~~~~~~~~~~~~~~~\n",
        "    # TENSORFLOW GRAPH\n",
        "# ~~~~~~~~~~~~~~~~~~~~~~~~~~~~~~~~~~~~~~~~~~~~~~~~~~~~~~~~~~~~~~~~~~~~~~~~~~~~\n",
        "# input tensor placeholders\n",
        "input_frames = tf.placeholder( dtype=tf.uint8, shape=[None, 10, 64, 64, 3], name='input_frames')\n",
        "\n",
        "input_lbls = tf.placeholder(dtype=tf.float32, shape=[None, 10, 7, 2], name='input_lbl')\n",
        "\n",
        "eta = tf.placeholder(tf.float64, name='lrate')\n",
        "\n",
        "is_training = True # used for normalization functinos\n",
        "\n",
        "num_units = 128 # number of lstm units to use\n",
        "seq_length = 10 # will not change for our project\n",
        "batch_size = 100 # Caution: large batch sizes will crash computers without large memory\n",
        "\n",
        "inputs = tf.cast(input_frames, dtype=tf.float32)\n",
        "outputs = []\n",
        "\n",
        "\n",
        "''' \n",
        "DATA NORMALIZATION BY MINI-BATCH\n",
        "\n",
        "use tf.batch_normalization to normalize the input tensor values to between\n",
        "0 and 1. The tf.layers version of this function is a high-level wrapper which\n",
        "takes care of calculating the running mean and varience in the data. Therefore, \n",
        "these portions of the normalization procedure are abstracted. \n",
        "'''\n",
        "inputs = tf.reshape(inputs,shape=[-1,32,32,3])\n",
        "l1 = tf.layers.batch_normalization(inputs, training=is_training)\n",
        "\n",
        "'''\n",
        "CNN SUMMARY:\n",
        "layer       |   kernel  | Stride  Num.Filters | Padding |    output tensor    |\n",
        "------------+-----------+---------------------+---------+---------------------|\n",
        "input_frames|           |                     |         | <?, 10, 32, 32, 3>  |\n",
        "inputs      |           |                     |         |     <?, 32, 32, 3>  |\n",
        "conv1       | < 4, 4 >  |     64              |   None  |     <?, 32, 32, 64> |\n",
        "pool1       | < 2, 1 >  |     --              |   None  |     <?, 32, 32, 64> |\n",
        "conv2       | < 8, 8 >  |     64              |   None  |     <?, 16, 16, 32> | \n",
        "pool2       | < 2, 2 >  |     --              |   None  |     <?,  8,  8, 32> | \n",
        "conv3       | < 8, 8 >  |     64              |   None  |     <?,  1,  1, 32> | \n",
        "pool3       | < 2, 1 >  |     --              |  Valid  |     <?,  1,  1, 32> |\n",
        "------------------------------------------------------------------------------|\n",
        "'''\n",
        "\n",
        "#print(inputs)\n",
        "conv1 = conv_layer(input=l1, fx=4, fy=4 , num_filters=64, stride=1, padding=\"SAME\", name='conv1') # create first convolutional\n",
        "print(conv1)\n",
        "pool1 = max_pool(input=conv1, ksize=2, stride=1, name='pool1') # max pool conv1\n",
        "print(pool1)\n",
        "conv2 = conv_layer(input=pool1, fx=8, fy=8 , num_filters=32, stride=2,padding=\"SAME\", name='conv2') # create second convolutional\n",
        "print(conv2)\n",
        "pool2 = max_pool(input=conv2, ksize=2, stride=2, name='pool2') # max pool conv2\n",
        "print(pool2)\n",
        "conv3 = conv_layer(input=pool2, fx=8, fy=8, num_filters=32, stride=2, padding=\"VALID\", name='conv3') # create third convolutional\n",
        "print(conv3)\n",
        "pool3 = max_pool(input=conv3, ksize=2,  stride=1, name='pool3') # max pool conv3\n",
        "print(pool3)\n",
        "\n",
        "# 2d tensor, (seqlen*batchsize,x)\n",
        "# reshape (batch_size,10,x)\n",
        "\n",
        "f = tf.reshape(pool3, [-1,10,num_units]) # must reshape the output tensor from conv net\n",
        "#print(f)\n",
        "\n",
        "\n",
        "#%%\n",
        "# define the RNN \n",
        "# parameters are defined above \n",
        "lstm_cell = tf.nn.rnn_cell.LSTMCell(num_units,name=\"lstmcell\")\n",
        "h_val, _ = tf.nn.dynamic_rnn(lstm_cell, f, dtype=tf.float32)\n",
        "\n",
        "# print(\"hval:\", h_val)\n",
        "#%%\n",
        "\n",
        "ws = 14   \n",
        "# collection of all the final output\n",
        "final_output = tf.zeros(shape=[batch_size, 0, 7, 2]) \n",
        "\n",
        "with tf.variable_scope('outp', reuse=tf.AUTO_REUSE): # to make the weights for each image\n",
        "    for i in np.arange(seq_length):     #  independent, needed to name the variables\n",
        "        w_fc = tf.get_variable(name=\"Wfc\" + str(i), # separately (maybe I could just not name them? )\n",
        "                       shape=[num_units, ws], # points would be the same across images otherwise.\n",
        "                       initializer=tf.initializers.truncated_normal(mean=1,stddev=1))\n",
        "        b_fc = tf.get_variable(name=\"BFC\"+ str(i),\n",
        "                       shape=[ws],\n",
        "                       initializer=tf.initializers.truncated_normal(mean=1,stddev=1))\n",
        "        temp = tf.reshape(h_val[:, i, :], [batch_size, num_units])        \n",
        "        output = tf.matmul(temp, w_fc) + b_fc        \n",
        "        output = tf.reshape(output, [-1, 1, 7, 2])        \n",
        "        final_output = tf.concat([final_output, output], axis=1)\n",
        "\n",
        "#%%\n",
        "joint_pos = tf.identity(final_output, name='joint_pos') \n",
        "print(joint_pos)\n",
        "loss = tf.losses.mean_squared_error(input_lbls, joint_pos)\n",
        "# we can use mean squared error as a loss function for spatial data\n",
        "diff = input_lbls-joint_pos\n",
        "#print(diff)\n",
        "lindist = tf.sqrt(tf.square(diff[:,:,:,0]) + tf.square(diff[:,:,:,1]))\n",
        "lindif = tf.reshape(lindist, [-1,7])\n",
        "#print(lindif)\n",
        "\n",
        "\n",
        "eta = tf.placeholder(tf.float64, name='lrate')\n",
        "extra_update_ops = tf.get_collection(tf.GraphKeys.UPDATE_OPS)\n",
        "\n",
        "optimizer = tf.train.AdamOptimizer( # choose ADAM optimizer - works well\n",
        "                learning_rate=eta, # with updatable learning rate\n",
        "                name='AdamOp').minimize(loss) # minimize the loss function\n",
        "\n",
        "tf.get_collection(\"validation_nodes\") # create a collection called \"validation_nodes\"\n",
        "tf.add_to_collection(\"validation_nodes\", input_frames) # add our input to the collection\n",
        "tf.add_to_collection(\"validation_nodes\", joint_pos) # add our output to the collection\n",
        "saver = tf.train.Saver()\n",
        "\n",
        "global_step = 0\n",
        "lr = 1  # this is the initial learning rate. Since it is being decreased after\n",
        "# every x number of iterations, we can choose a larger learning rate to start\n",
        "# such that the loss function converges quicker.\n",
        "\n",
        "num_tr_iterations = int(len(train_labels_f) / batch_size)\n",
        "\n"
      ],
      "execution_count": null,
      "outputs": [
        {
          "output_type": "stream",
          "text": [
            "WARNING:tensorflow:From <ipython-input-4-4d5f5645fd89>:32: batch_normalization (from tensorflow.python.layers.normalization) is deprecated and will be removed in a future version.\n",
            "Instructions for updating:\n",
            "Use keras.layers.BatchNormalization instead.  In particular, `tf.control_dependencies(tf.GraphKeys.UPDATE_OPS)` should not be used (consult the `tf.keras.layers.batch_normalization` documentation).\n",
            "WARNING:tensorflow:From /tensorflow-1.15.2/python3.6/tensorflow_core/python/layers/normalization.py:327: Layer.apply (from tensorflow.python.keras.engine.base_layer) is deprecated and will be removed in a future version.\n",
            "Instructions for updating:\n",
            "Please use `layer.__call__` method instead.\n",
            "WARNING:tensorflow:\n",
            "The TensorFlow contrib module will not be included in TensorFlow 2.0.\n",
            "For more information, please see:\n",
            "  * https://github.com/tensorflow/community/blob/master/rfcs/20180907-contrib-sunset.md\n",
            "  * https://github.com/tensorflow/addons\n",
            "  * https://github.com/tensorflow/io (for I/O related ops)\n",
            "If you depend on functionality not listed there, please file an issue.\n",
            "\n",
            "Tensor(\"conv1/Relu:0\", shape=(?, 32, 32, 64), dtype=float32)\n",
            "Tensor(\"pool1:0\", shape=(?, 32, 32, 64), dtype=float32)\n",
            "Tensor(\"conv2/Relu:0\", shape=(?, 16, 16, 32), dtype=float32)\n",
            "Tensor(\"pool2:0\", shape=(?, 8, 8, 32), dtype=float32)\n",
            "Tensor(\"conv3/Relu:0\", shape=(?, 1, 1, 32), dtype=float32)\n",
            "Tensor(\"pool3:0\", shape=(?, 1, 1, 32), dtype=float32)\n",
            "WARNING:tensorflow:From <ipython-input-4-4d5f5645fd89>:73: LSTMCell.__init__ (from tensorflow.python.ops.rnn_cell_impl) is deprecated and will be removed in a future version.\n",
            "Instructions for updating:\n",
            "This class is equivalent as tf.keras.layers.LSTMCell, and will be replaced by that in Tensorflow 2.0.\n",
            "WARNING:tensorflow:From <ipython-input-4-4d5f5645fd89>:74: dynamic_rnn (from tensorflow.python.ops.rnn) is deprecated and will be removed in a future version.\n",
            "Instructions for updating:\n",
            "Please use `keras.layers.RNN(cell)`, which is equivalent to this API\n",
            "WARNING:tensorflow:From /tensorflow-1.15.2/python3.6/tensorflow_core/python/ops/rnn_cell_impl.py:958: Layer.add_variable (from tensorflow.python.keras.engine.base_layer) is deprecated and will be removed in a future version.\n",
            "Instructions for updating:\n",
            "Please use `layer.add_weight` method instead.\n",
            "WARNING:tensorflow:From /tensorflow-1.15.2/python3.6/tensorflow_core/python/ops/rnn_cell_impl.py:962: calling Zeros.__init__ (from tensorflow.python.ops.init_ops) with dtype is deprecated and will be removed in a future version.\n",
            "Instructions for updating:\n",
            "Call initializer instance with the dtype argument instead of passing it to the constructor\n",
            "Tensor(\"joint_pos:0\", shape=(100, 10, 7, 2), dtype=float32)\n",
            "WARNING:tensorflow:From /tensorflow-1.15.2/python3.6/tensorflow_core/python/ops/losses/losses_impl.py:121: where (from tensorflow.python.ops.array_ops) is deprecated and will be removed in a future version.\n",
            "Instructions for updating:\n",
            "Use tf.where in 2.0, which has the same broadcast rule as np.where\n"
          ],
          "name": "stdout"
        }
      ]
    },
    {
      "cell_type": "markdown",
      "metadata": {
        "id": "c-eoOb-Yym2y",
        "colab_type": "text"
      },
      "source": [
        "# Training the Network\n",
        "\n",
        "Finally, the weight tensors are actually initialized and trained. The Adam Optimizer seemed to produce the best results in this project, and converged faster than GD or SGD. In all, 6 batches of 100 video tensors were fed through the network for training. After each epoch, a training set is fed through and these estimates are used to determine the network's accuracy."
      ]
    },
    {
      "cell_type": "code",
      "metadata": {
        "id": "bHUy-C2Euvhx",
        "colab_type": "code",
        "colab": {
          "base_uri": "https://localhost:8080/",
          "height": 401
        },
        "outputId": "7b7ddb7b-bba5-4f1f-89d1-e4be4428790c"
      },
      "source": [
        "\n",
        "\n",
        "init = tf.global_variables_initializer()\n",
        "saver = tf.train.Saver() # needed to save our tensorflow graph\n",
        "sess = tf.Session() \n",
        "sess.run(init) # start the session\n",
        "\n",
        "#%%\n",
        "epochs = 6\n",
        "for epoch in range(epochs): # epochs set at top of document\n",
        "    global_step += 1 \n",
        "    ss = global_step*batch_size    \n",
        "    ee = (global_step + 1)*batch_size\n",
        "    \n",
        "    for iteration in range(num_tr_iterations): # = tr size/ epochs\n",
        "        start = iteration * batch_size  \n",
        "        end = (iteration + 1) * batch_size\n",
        "        x_batch, y_batch = next_batch(train_data_f, train_labels_f, start, end) \n",
        "        # grab the next batch for training and testing. \n",
        "        train_batch = {input_frames: x_batch,\n",
        "                           input_lbls: y_batch,\n",
        "                           eta: lr\n",
        "                           }\n",
        "        x_t, y_t = next_batch(test_data_f, test_labels_f, ss, ee)\n",
        "        test_batch = {input_frames: x_t,\n",
        "                      input_lbls: y_t}\n",
        "        sess.run(optimizer, feed_dict=train_batch) # train the model using the \n",
        "        #print(\"Doing Something...\")\n",
        "        if (iteration % 20 == 0):\n",
        "            sys.stdout.write(\".\")\n",
        "    is_training = False;\n",
        "    pred, diffr = sess.run([joint_pos, lindif],feed_dict=test_batch) # get the testing error\n",
        "    save_path = saver.save(sess, \"/content/drive/My Drive/Colab Notebooks/my_model\")\n",
        "    is_training = True;\n",
        "    #plt_errs(epoch, x_batch, pred) # plot to make sure the predictions make sense\n",
        "    lr /= 2\n",
        "    print()\n",
        "    calc_avg_pxl_dist_err()\n",
        "plt_errs() # finally, run a session and plot the errors after we have finished\n",
        "sess.close()"
      ],
      "execution_count": null,
      "outputs": [
        {
          "output_type": "stream",
          "text": [
            "...\n",
            "...\n",
            "...\n",
            "...\n",
            "...\n",
            "...\n"
          ],
          "name": "stdout"
        },
        {
          "output_type": "display_data",
          "data": {
            "image/png": "[encoded data removed]",
            "text/plain": [
              "<Figure size 432x288 with 1 Axes>"
            ]
          },
          "metadata": {
            "tags": [],
            "needs_background": "light"
          }
        }
      ]
    },
    {
      "cell_type": "markdown",
      "metadata": {
        "id": "qwmTp3-NiR3b",
        "colab_type": "text"
      },
      "source": [
        "As seen in the plot above, the network was most effective at determining the locations of the head, right elbow and left elbow. These joint positions, in nearly 100 percent of videos, were located to within 15 pixels of the ground-truth location. This probably occurs because the CNN part of the network is able to do feature extraction on these body postions most effectively. Obviously, with a larger dataset, data augmentation, and other preprocessing techniques the performance of the network can be improved. These will be attempted soon."
      ]
    }
  ]
}